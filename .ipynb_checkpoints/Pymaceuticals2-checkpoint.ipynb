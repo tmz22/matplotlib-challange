{
 "cells": [
  {
   "cell_type": "markdown",
   "metadata": {},
   "source": [
    "## Observations and Insights "
   ]
  },
  {
   "cell_type": "code",
   "execution_count": null,
   "metadata": {},
   "outputs": [],
   "source": [
    "%matplotlib notebook"
   ]
  },
  {
   "cell_type": "code",
   "execution_count": null,
   "metadata": {},
   "outputs": [],
   "source": [
    "# Dependencies and Setup\n",
    "import matplotlib.pyplot as plt\n",
    "import pandas as pd\n",
    "import scipy.stats as st\n",
    "\n",
    "# Study data files\n",
    "mouse_metadata_path = \"data/Mouse_metadata.csv\"\n",
    "study_results_path = \"data/Study_results.csv\"\n",
    "\n",
    "# Read the mouse data and the study results\n",
    "mouse_metadata = pd.read_csv(mouse_metadata_path)\n",
    "study_results = pd.read_csv(study_results_path)\n",
    "\n",
    "# Combine the data into a single dataset\n",
    "combined_mouse_df = pd.merge(mouse_metadata,study_results,on=\"Mouse ID\", how=\"outer\")\n",
    "combined_mouse_df.head()"
   ]
  },
  {
   "cell_type": "code",
   "execution_count": null,
   "metadata": {
    "scrolled": true
   },
   "outputs": [],
   "source": [
    "# Checking the number of mice.\n",
    "combined_mouse_df.count()"
   ]
  },
  {
   "cell_type": "code",
   "execution_count": null,
   "metadata": {},
   "outputs": [],
   "source": [
    "# Getting the duplicate mice by ID number that shows up for Mouse ID and Timepoint. \n",
    "combined_mouse_df.duplicated(subset=[\"Mouse ID\", \"Timepoint\"])"
   ]
  },
  {
   "cell_type": "code",
   "execution_count": null,
   "metadata": {},
   "outputs": [],
   "source": [
    "# Optional: Get all the data for the duplicate mouse ID. \n",
    "combined_mouse_df[combined_mouse_df.duplicated([\"Mouse ID\"])]"
   ]
  },
  {
   "cell_type": "code",
   "execution_count": null,
   "metadata": {},
   "outputs": [],
   "source": [
    "# Create a clean DataFrame by dropping the duplicate mouse by its ID.\n",
    "combined_mouse_df = combined_mouse_df.drop_duplicates(subset=\"Mouse ID\", keep=\"last\")\n",
    "combined_mouse_df"
   ]
  },
  {
   "cell_type": "code",
   "execution_count": null,
   "metadata": {},
   "outputs": [],
   "source": [
    "# Checking the number of mice in the clean DataFrame.\n",
    "#combined_mouse_df[combined_mouse_df.drop_duplicates([\"Mouse ID\"])]\n",
    "combined_mouse_df.count()"
   ]
  },
  {
   "cell_type": "markdown",
   "metadata": {},
   "source": [
    "## Summary Statistics"
   ]
  },
  {
   "cell_type": "code",
   "execution_count": null,
   "metadata": {},
   "outputs": [],
   "source": [
    "# Generate a summary statistics table of mean, median, variance, standard deviation, and SEM of the tumor volume for each regimen"
   ]
  },
  {
   "cell_type": "code",
   "execution_count": null,
   "metadata": {},
   "outputs": [],
   "source": [
    "#Summary statistics table of mean, median,variance,standard,deviation, and SEM\n",
    "tumorstats = pd.DataFrame(combined_mouse_df.groupby(\"Drug Regimen\").count())\n",
    "\n",
    "#Use groupby to create summary stats by drug regime, add results into columns in summarystats\n",
    "tumorstats[\"Mean\"] = pd.DataFrame(combined_mouse_df.groupby(\"Drug Regimen\")[\"Tumor Volume (mm3)\"].mean())\n",
    "tumorstats[\"Median\"] = pd.DataFrame(combined_mouse_df.groupby(\"Drug Regimen\")[\"Tumor Volume (mm3)\"].median())\n",
    "tumorstats[\"Standard Deviation\"] = pd.DataFrame(combined_mouse_df.groupby(\"Drug Regimen\")[\"Tumor Volume (mm3)\"].std())\n",
    "tumorstats[\"Variance\"] = pd.DataFrame(combined_mouse_df.groupby(\"Drug Regimen\")[\"Tumor Volume (mm3)\"].var())\n",
    "tumorstats[\"SEM\"] = pd.DataFrame(combined_mouse_df.groupby(\"Drug Regimen\")[\"Tumor Volume (mm3)\"].sem())\n",
    "\n",
    "#Columns\n",
    "tumorstats = tumorstats[[\"Mouse ID\", \"Mean\", \"Median\", \"Standard Deviation\", \"Variance\", \"SEM\"]]\n",
    "\n",
    "\n",
    "tumorstats.reset_index()\n",
    "tumorstats.head()"
   ]
  },
  {
   "cell_type": "code",
   "execution_count": null,
   "metadata": {},
   "outputs": [],
   "source": [
    "#Summary statistics table of mean, median,variance,standard,deviation, and SEM\n",
    "#merged_grouped_df = combined_mouse_df.groupby([\"Drug Regimen\"])\n",
    "#tumor_mean = combined_mouse_df.groupby('Drug Regimen').mean()['Tumor Volume (mm3)']\n",
    "#tumor_mean = combined_mouse_df.groupby('Drug Regimen').median()['Tumor Volume (mm3)']\n",
    "#tumor_mean = combined_mouse_df.groupby('Drug Regimen').std()['Tumor Volume (mm3)']\n",
    "#tumor_mean = combined_mouse_df.groupby('Drug Regimen').var()['Tumor Volume (mm3)']\n",
    "#tumor_mean = combined_mouse_df.groupby('Drug Regimen').sem()['Tumor Volume (mm3)']\n",
    "\n",
    "\n",
    "#Convert to DataFrame\n",
    "#tumor_df = pd.DataFrame(tumor_mean)\n",
    "\n",
    "\n",
    "# DataFrame\n",
    "#tumor_summary_df=tumor_df.copy()\n",
    "#tumor_summary_df\n",
    "#tumor_summary.reset_index()"
   ]
  },
  {
   "cell_type": "code",
   "execution_count": null,
   "metadata": {},
   "outputs": [],
   "source": [
    "#merged_grouped_df = combined_mouse_df.groupby([\"Drug Regimen\"])\n",
    "\n",
    "#tumor_mean  = merged_grouped_df[\"Tumor Volume (mm3)\"].mean()\n",
    "\n",
    "#Convert to DataFrame\n",
    "#tumor_df = pd.DataFrame(tumor_mean)\n",
    "\n",
    "\n",
    "# DataFrame\n",
    "#tumor_summary_df=tumor_df.copy()\n",
    "#tumor_summary_df\n",
    "#tumorstats.reset_index()\n"
   ]
  },
  {
   "cell_type": "code",
   "execution_count": null,
   "metadata": {},
   "outputs": [],
   "source": [
    "#len(tumorstats)"
   ]
  },
  {
   "cell_type": "markdown",
   "metadata": {},
   "source": [
    "## Bar and Pie Charts"
   ]
  },
  {
   "cell_type": "code",
   "execution_count": null,
   "metadata": {
    "scrolled": true
   },
   "outputs": [],
   "source": [
    "# Generate a bar plot showing the number of mice per time point for each treatment throughout the course of the study using pandas. \n",
    "#mice_points['Count'] = combined_mouse_df.groupby('Drug Regimen').count()['Tumor Volume (mm3)'].values\n",
    "#mice_points\n",
    "#mice_points.plot.bar('Drug Regimen','Count',alpha = 0.5)\n",
    "#plt.show()\n",
    "\n",
    "mice_counts =combined_mouse_df[\"Drug Regimen\"].value_counts()\n",
    "#x_axis = clean_df[\"Drug Regimen\"].value_counts()\n",
    "mice_counts.plot(kind=\"bar\")\n",
    "plt.xlabel(\"Drug Regimen\")\n",
    "plt.xticks(rotation=45)\n",
    "plt.ylabel(\"No.of data points\")\n",
    "plt.show()"
   ]
  },
  {
   "cell_type": "code",
   "execution_count": null,
   "metadata": {},
   "outputs": [],
   "source": [
    "# Generate a bar plot showing the number of mice per time point for each treatment throughout the course of the study using pyplot.\n",
    "#mice_counts =combined_mouse_df[\"Drug Regimen\"].value_counts()\n",
    "#mice_counts.plot(kind=\"bar\")\n",
    "#plt.xlabel(\"Drug Regimen\")\n",
    "#plt.xticks(rotation=45)\n",
    "#plt.ylabel(\"No.of data points\")\n",
    "#plt.show()\n",
    "\n",
    "pandas_plot = mice_counts.plot(kind=\"bar\", figsize=(8,5))\n",
    "plt.show()"
   ]
  },
  {
   "cell_type": "code",
   "execution_count": null,
   "metadata": {},
   "outputs": [],
   "source": [
    "# Generate a pie plot showing the distribution of female versus male mice using pandas\n",
    "sex_count = combined_mouse_df[\"Sex\"].value_counts()\n",
    "sex_count.head()\n"
   ]
  },
  {
   "cell_type": "code",
   "execution_count": null,
   "metadata": {},
   "outputs": [],
   "source": [
    "# Generate a pie plot showing the distribution of female versus male mice using pyplot\n"
   ]
  },
  {
   "cell_type": "markdown",
   "metadata": {},
   "source": [
    "## Quartiles, Outliers and Boxplots"
   ]
  },
  {
   "cell_type": "code",
   "execution_count": null,
   "metadata": {},
   "outputs": [],
   "source": [
    "# Calculate the final tumor volume of each mouse across four of the most promising treatment regimens. Calculate the IQR and quantitatively determine if there are any potential outliers. \n"
   ]
  },
  {
   "cell_type": "code",
   "execution_count": null,
   "metadata": {},
   "outputs": [],
   "source": [
    "# Generate a box plot of the final tumor volume of each mouse across four regimens of interest\n"
   ]
  },
  {
   "cell_type": "markdown",
   "metadata": {},
   "source": [
    "## Line and Scatter Plots"
   ]
  },
  {
   "cell_type": "code",
   "execution_count": null,
   "metadata": {},
   "outputs": [],
   "source": [
    "# Generate a line plot of time point versus tumor volume for a mouse treated with Capomulin\n"
   ]
  },
  {
   "cell_type": "code",
   "execution_count": null,
   "metadata": {},
   "outputs": [],
   "source": [
    "# Generate a scatter plot of mouse weight versus average tumor volume for the Capomulin regimen\n"
   ]
  },
  {
   "cell_type": "markdown",
   "metadata": {},
   "source": [
    "## Correlation and Regression"
   ]
  },
  {
   "cell_type": "code",
   "execution_count": null,
   "metadata": {},
   "outputs": [],
   "source": [
    "# Calculate the correlation coefficient and linear regression model \n",
    "# for mouse weight and average tumor volume for the Capomulin regimen\n"
   ]
  },
  {
   "cell_type": "code",
   "execution_count": null,
   "metadata": {},
   "outputs": [],
   "source": []
  }
 ],
 "metadata": {
  "anaconda-cloud": {},
  "kernelspec": {
   "display_name": "Python 3",
   "language": "python",
   "name": "python3"
  },
  "language_info": {
   "codemirror_mode": {
    "name": "ipython",
    "version": 3
   },
   "file_extension": ".py",
   "mimetype": "text/x-python",
   "name": "python",
   "nbconvert_exporter": "python",
   "pygments_lexer": "ipython3",
   "version": "3.7.4"
  }
 },
 "nbformat": 4,
 "nbformat_minor": 2
}
